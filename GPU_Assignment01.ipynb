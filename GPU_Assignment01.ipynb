{
 "cells": [
  {
   "cell_type": "markdown",
   "id": "ee1e9fba",
   "metadata": {
    "id": "FnbOpSzb6n49",
    "papermill": {
     "duration": 0.00486,
     "end_time": "2024-01-28T16:42:33.497459",
     "exception": false,
     "start_time": "2024-01-28T16:42:33.492599",
     "status": "completed"
    },
    "tags": []
   },
   "source": [
    "###Notebook Initialization Code"
   ]
  },
  {
   "cell_type": "code",
   "execution_count": 1,
   "id": "27d9b784",
   "metadata": {
    "execution": {
     "iopub.execute_input": "2024-01-28T16:42:33.507028Z",
     "iopub.status.busy": "2024-01-28T16:42:33.506719Z",
     "iopub.status.idle": "2024-01-28T16:43:02.313451Z",
     "shell.execute_reply": "2024-01-28T16:43:02.312361Z"
    },
    "executionInfo": {
     "elapsed": 20105,
     "status": "ok",
     "timestamp": 1706456591662,
     "user": {
      "displayName": "Mohammad Ali",
      "userId": "01023744747669863764"
     },
     "user_tz": -300
    },
    "id": "n71fzyys6Z2j",
    "outputId": "377fd5d4-96bd-45e8-bc85-26db2cfc1d64",
    "papermill": {
     "duration": 28.813798,
     "end_time": "2024-01-28T16:43:02.315630",
     "exception": false,
     "start_time": "2024-01-28T16:42:33.501832",
     "status": "completed"
    },
    "tags": []
   },
   "outputs": [
    {
     "name": "stdout",
     "output_type": "stream",
     "text": [
      "Collecting git+https://github.com/andreinechaev/nvcc4jupyter.git\r\n",
      "  Cloning https://github.com/andreinechaev/nvcc4jupyter.git to /tmp/pip-req-build-mfnoq1qk\r\n",
      "  Running command git clone --filter=blob:none --quiet https://github.com/andreinechaev/nvcc4jupyter.git /tmp/pip-req-build-mfnoq1qk\r\n",
      "  Resolved https://github.com/andreinechaev/nvcc4jupyter.git to commit 5cd225851b7638f3f6d55a19328295f16c014079\r\n",
      "  Installing build dependencies ... \u001b[?25l-\b \b\\\b \b|\b \b/\b \b-\b \b\\\b \b|\b \b/\b \b-\b \b\\\b \b|\b \bdone\r\n",
      "\u001b[?25h  Getting requirements to build wheel ... \u001b[?25ldone\r\n",
      "\u001b[?25h  Preparing metadata (pyproject.toml) ... \u001b[?25ldone\r\n",
      "\u001b[?25hBuilding wheels for collected packages: nvcc4jupyter\r\n",
      "  Building wheel for nvcc4jupyter (pyproject.toml) ... \u001b[?25ldone\r\n",
      "\u001b[?25h  Created wheel for nvcc4jupyter: filename=nvcc4jupyter-1.0.3-py3-none-any.whl size=7432 sha256=ad99cf1e6175f37f13398802e9e82d42885745e385f9d1c2ce678f3d359f3a95\r\n",
      "  Stored in directory: /tmp/pip-ephem-wheel-cache-l2y9brov/wheels/a8/b9/18/23f8ef71ceb0f63297dd1903aedd067e6243a68ea756d6feea\r\n",
      "Successfully built nvcc4jupyter\r\n",
      "Installing collected packages: nvcc4jupyter\r\n",
      "Successfully installed nvcc4jupyter-1.0.3\r\n",
      "Source files will be saved in \"/tmp/tmpivf9kkxt\".\n"
     ]
    }
   ],
   "source": [
    "!pip install git+https://github.com/andreinechaev/nvcc4jupyter.git\n",
    "%load_ext nvcc4jupyter"
   ]
  },
  {
   "cell_type": "code",
   "execution_count": 2,
   "id": "112abc98",
   "metadata": {
    "execution": {
     "iopub.execute_input": "2024-01-28T16:43:02.328659Z",
     "iopub.status.busy": "2024-01-28T16:43:02.328347Z",
     "iopub.status.idle": "2024-01-28T16:43:03.377321Z",
     "shell.execute_reply": "2024-01-28T16:43:03.376268Z"
    },
    "executionInfo": {
     "elapsed": 7,
     "status": "ok",
     "timestamp": 1706456597071,
     "user": {
      "displayName": "Mohammad Ali",
      "userId": "01023744747669863764"
     },
     "user_tz": -300
    },
    "id": "SflukDzC7wAa",
    "outputId": "15020e55-eed4-499d-dc46-60778b7fc9a4",
    "papermill": {
     "duration": 1.058191,
     "end_time": "2024-01-28T16:43:03.379581",
     "exception": false,
     "start_time": "2024-01-28T16:43:02.321390",
     "status": "completed"
    },
    "tags": []
   },
   "outputs": [
    {
     "name": "stdout",
     "output_type": "stream",
     "text": [
      "Sun Jan 28 16:43:03 2024       \r\n",
      "+---------------------------------------------------------------------------------------+\r\n",
      "| NVIDIA-SMI 535.129.03             Driver Version: 535.129.03   CUDA Version: 12.2     |\r\n",
      "|-----------------------------------------+----------------------+----------------------+\r\n",
      "| GPU  Name                 Persistence-M | Bus-Id        Disp.A | Volatile Uncorr. ECC |\r\n",
      "| Fan  Temp   Perf          Pwr:Usage/Cap |         Memory-Usage | GPU-Util  Compute M. |\r\n",
      "|                                         |                      |               MIG M. |\r\n",
      "|=========================================+======================+======================|\r\n",
      "|   0  Tesla T4                       Off | 00000000:00:04.0 Off |                    0 |\r\n",
      "| N/A   37C    P8               9W /  70W |      0MiB / 15360MiB |      0%      Default |\r\n",
      "|                                         |                      |                  N/A |\r\n",
      "+-----------------------------------------+----------------------+----------------------+\r\n",
      "|   1  Tesla T4                       Off | 00000000:00:05.0 Off |                    0 |\r\n",
      "| N/A   33C    P8               9W /  70W |      0MiB / 15360MiB |      0%      Default |\r\n",
      "|                                         |                      |                  N/A |\r\n",
      "+-----------------------------------------+----------------------+----------------------+\r\n",
      "                                                                                         \r\n",
      "+---------------------------------------------------------------------------------------+\r\n",
      "| Processes:                                                                            |\r\n",
      "|  GPU   GI   CI        PID   Type   Process name                            GPU Memory |\r\n",
      "|        ID   ID                                                             Usage      |\r\n",
      "|=======================================================================================|\r\n",
      "|  No running processes found                                                           |\r\n",
      "+---------------------------------------------------------------------------------------+\r\n"
     ]
    }
   ],
   "source": [
    "!nvidia-smi"
   ]
  },
  {
   "cell_type": "markdown",
   "id": "2288a981",
   "metadata": {
    "id": "xOLqeTFSF8mT",
    "papermill": {
     "duration": 0.005432,
     "end_time": "2024-01-28T16:43:03.390932",
     "exception": false,
     "start_time": "2024-01-28T16:43:03.385500",
     "status": "completed"
    },
    "tags": []
   },
   "source": [
    "### Question No 01"
   ]
  },
  {
   "cell_type": "code",
   "execution_count": 3,
   "id": "902c9312",
   "metadata": {
    "execution": {
     "iopub.execute_input": "2024-01-28T16:43:03.403835Z",
     "iopub.status.busy": "2024-01-28T16:43:03.403537Z",
     "iopub.status.idle": "2024-01-28T16:43:08.490270Z",
     "shell.execute_reply": "2024-01-28T16:43:08.489177Z"
    },
    "executionInfo": {
     "elapsed": 4823,
     "status": "ok",
     "timestamp": 1706454773209,
     "user": {
      "displayName": "Mohammad Ali",
      "userId": "01023744747669863764"
     },
     "user_tz": -300
    },
    "id": "GgUvdgcCGHMl",
    "outputId": "91129742-c5ca-4dfa-b432-c577fab93e02",
    "papermill": {
     "duration": 5.096153,
     "end_time": "2024-01-28T16:43:08.492445",
     "exception": false,
     "start_time": "2024-01-28T16:43:03.396292",
     "status": "completed"
    },
    "tags": []
   },
   "outputs": [
    {
     "name": "stdout",
     "output_type": "stream",
     "text": [
      "Total time to generate data on CPU: 22.918079 msecs\n",
      "Total time to generate data on GPU: 303.360870 msecs\n",
      "Total time to copy data from device to host: 1.004128 msecs\n",
      "\n"
     ]
    }
   ],
   "source": [
    "%%cuda\n",
    "#include <stdio.h>\n",
    "#include <stdlib.h>\n",
    "#include <cuda_runtime.h>\n",
    "#include <curand_kernel.h>\n",
    "\n",
    "inline cudaError_t checkCudaErr(cudaError_t err, const char* msg) {\n",
    "  if (err != cudaSuccess) {\n",
    "    fprintf(stderr, \"CUDA Runtime error at %s: %s\\n\", msg, cudaGetErrorString(err));\n",
    "  }\n",
    "  return err;\n",
    "}\n",
    "\n",
    "/*\n",
    "Reference: 1. https://docs.nvidia.com/cuda/curand/device-api-overview.html#bit-generation-1\n",
    "2. https://stackoverflow.com/questions/26650391/generate-random-number-within-a-function-with-curand-without-preallocation\n",
    "\n",
    "*/\n",
    "        \n",
    "__global__ void populate_device(int* arr, int N) {\n",
    "    int i = threadIdx.x + blockDim.x * blockIdx.x;\n",
    "    curandState state;\n",
    "    curand_init(i, 0, 0, &state); // Passing i as seed. setting sequence parameter (2nd one) to 0 signigicantly reduces time from 45 ms to 4ms\n",
    "    if (i < N) {\n",
    "        arr[i] = curand(&state);\n",
    "    }\n",
    "\n",
    "}\n",
    "/*\n",
    "Nvidia website suggests initializing curand state in a seperate kernel function and then copying the state from global to local memory orrandom number generation.\n",
    "However, we get a significant initialization performance improvement as compared to CPU even though we use an inefficient approach (i.e calling curand_init()) in each kernel launch.\n",
    "*/\n",
    "\n",
    "void populate_host(int* arr, int N) {\n",
    "    for (int i = 0; i<N; i++)\n",
    "      arr[i] = rand();\n",
    "}\n",
    "\n",
    "int main() {\n",
    "    int *h_arr = 0;\n",
    "    int *d_arr = 0;\n",
    "\n",
    "    int N = 1000000;\n",
    "    int numThreadsPerBlock = 256;\n",
    "    int numBlocksPerGrid = ceilf(N/numThreadsPerBlock + 1);\n",
    "\n",
    "    size_t size = N * sizeof(int);\n",
    "    h_arr = (int*)malloc(size);\n",
    "\n",
    "\n",
    "    //allocate device memory\n",
    "\t  checkCudaErr(cudaMalloc((void**)&d_arr, size), \"gpu memory allocation\");\n",
    "\n",
    "\n",
    "    cudaEvent_t start, stop;\n",
    "\t  checkCudaErr(cudaEventCreate(&start), \"Start Event Creation\");\n",
    "\t  checkCudaErr(cudaEventCreate(&stop), \"Stop Event Creation\");\n",
    "    float cputime = 0;\n",
    "    float gputime = 0;\n",
    "    float datacopytime = 0;\n",
    "\n",
    "    //initialize on host\n",
    "    checkCudaErr(cudaEventRecord(start), \"event record\");\n",
    "    populate_host(h_arr, N);\n",
    "    checkCudaErr(cudaEventRecord(stop), \"event record\");\n",
    "    checkCudaErr(cudaEventSynchronize(stop), \"event synchronize\");\n",
    "    cudaEventElapsedTime(&cputime, start, stop);\n",
    "\n",
    "\n",
    "    //output result\n",
    "    /*\n",
    "      printf(\"Host calculation result: \\n\");\n",
    "      for(int i=0;i<N;++i) {\n",
    "        printf(\"%d element =  %d\\n\", i, h_arr[i]);\n",
    "        //clear host result to ensure that the result of device is actually from the kernel\n",
    "        h_arr[i] = 0;\n",
    "      }\n",
    "    */\n",
    "\n",
    "\n",
    "    //populate data on device\n",
    "    checkCudaErr(cudaEventRecord(start), \"event record\");\n",
    "    populate_device<<<numBlocksPerGrid, numThreadsPerBlock>>>(d_arr, N);\n",
    "    checkCudaErr(cudaGetLastError(), \"GPU Error\");\n",
    "    checkCudaErr(cudaDeviceSynchronize(), \"synchronize\");\n",
    "    checkCudaErr(cudaEventRecord(stop), \"event record\");\n",
    "    checkCudaErr(cudaEventSynchronize(stop), \"event synchronize\");\n",
    "\n",
    "    cudaEventElapsedTime(&gputime, start, stop);\n",
    "\n",
    "\n",
    "    \t//copy result from device to host\n",
    "    checkCudaErr(cudaEventRecord(start), \"event record\");\n",
    "\t  checkCudaErr(cudaMemcpy(h_arr, d_arr, size, cudaMemcpyDeviceToHost), \"data copy\");\n",
    "    checkCudaErr(cudaEventRecord(stop), \"event record\");\n",
    "    checkCudaErr(cudaEventSynchronize(stop), \"event synchronize\");\n",
    "    cudaEventElapsedTime(&datacopytime, start, stop);\n",
    "    \n",
    " \t//output result\n",
    "\t/*\n",
    "\tprintf(\"--------------------------------------\\n\");\n",
    "\tprintf(\"Device calculation result: \\n\");\n",
    "\tfor(int i=0;i<N;++i) {\n",
    "\t\tprintf(\"%3d = %3d\\n\", i, h_arr[i]);\n",
    "\t}\n",
    "\tprintf(\"--------------------------------------\\n\");\n",
    "\t*/\n",
    "\n",
    "\n",
    "  printf(\"Total time to generate data on CPU: %f msecs\\n\", cputime);\n",
    "  printf(\"Total time to generate data on GPU: %f msecs\\n\", gputime);\n",
    "  printf(\"Total time to copy data from device to host: %f msecs\\n\", datacopytime);\n",
    "    \n",
    "\t//delete data allocated on device\n",
    "\tcheckCudaErr(cudaFree(d_arr), \"device mem deallocation\");\n",
    "\n",
    "\t//delete host memory\n",
    "\tfree(h_arr);\n",
    "\tcudaDeviceReset();\n",
    "\treturn 0;\n",
    "\n",
    "}\n",
    "\n"
   ]
  },
  {
   "cell_type": "markdown",
   "id": "306f356a",
   "metadata": {
    "papermill": {
     "duration": 0.005928,
     "end_time": "2024-01-28T16:43:08.504493",
     "exception": false,
     "start_time": "2024-01-28T16:43:08.498565",
     "status": "completed"
    },
    "tags": []
   },
   "source": [
    "- Time Take to generate data on CPU: 25 msecs approx\n",
    "- Time taken to generate data on GPU: 4.5 msecs approx\n",
    "- Time taken to copy data from device to host: 0.9 msecs approx"
   ]
  },
  {
   "cell_type": "markdown",
   "id": "4271facf",
   "metadata": {
    "id": "an0haJ_579X8",
    "papermill": {
     "duration": 0.005693,
     "end_time": "2024-01-28T16:43:08.515927",
     "exception": false,
     "start_time": "2024-01-28T16:43:08.510234",
     "status": "completed"
    },
    "tags": []
   },
   "source": [
    "### Question No 02"
   ]
  },
  {
   "cell_type": "code",
   "execution_count": 4,
   "id": "caff9103",
   "metadata": {
    "execution": {
     "iopub.execute_input": "2024-01-28T16:43:08.529055Z",
     "iopub.status.busy": "2024-01-28T16:43:08.528734Z",
     "iopub.status.idle": "2024-01-28T16:43:10.069036Z",
     "shell.execute_reply": "2024-01-28T16:43:10.068017Z"
    },
    "executionInfo": {
     "elapsed": 1272,
     "status": "ok",
     "timestamp": 1706445576282,
     "user": {
      "displayName": "Mohammad Ali",
      "userId": "01023744747669863764"
     },
     "user_tz": -300
    },
    "id": "iLn3S7YX8Ft0",
    "outputId": "3544aec9-f0bd-4caf-b668-b893c51b6ff2",
    "papermill": {
     "duration": 1.550057,
     "end_time": "2024-01-28T16:43:10.071790",
     "exception": false,
     "start_time": "2024-01-28T16:43:08.521733",
     "status": "completed"
    },
    "tags": []
   },
   "outputs": [
    {
     "name": "stdout",
     "output_type": "stream",
     "text": [
      "Number of elements = 1000\n",
      "Num threads per block: 128\n",
      "Num blocks per grid:   8\n",
      "Sum (host): 2341803024d\n",
      "Sum (device): 2341803024d\n",
      "Total time on CPU: 0.008128 msecs\n",
      "Total time on GPU: 45.708096 msecs\n",
      "=============================\n",
      "Number of elements = 1000\n",
      "Num threads per block: 256\n",
      "Num blocks per grid:   4\n",
      "Sum (host): 2349657872d\n",
      "Sum (device): 2349657872d\n",
      "Total time on CPU: 0.006144 msecs\n",
      "Total time on GPU: 0.013568 msecs\n",
      "=============================\n",
      "Number of elements = 1000\n",
      "Num threads per block: 512\n",
      "Num blocks per grid:   2\n",
      "Sum (host): 2354233680d\n",
      "Sum (device): 2354233680d\n",
      "Total time on CPU: 0.004672 msecs\n",
      "Total time on GPU: 0.010208 msecs\n",
      "=============================\n",
      "Number of elements = 10000\n",
      "Num threads per block: 128\n",
      "Num blocks per grid:  79\n",
      "Sum (host): 2352019536d\n",
      "Sum (device): 2352019536d\n",
      "Total time on CPU: 0.052832 msecs\n",
      "Total time on GPU: 0.011456 msecs\n",
      "=============================\n",
      "Number of elements = 10000\n",
      "Num threads per block: 256\n",
      "Num blocks per grid:  40\n",
      "Sum (host): 2352354592d\n",
      "Sum (device): 2352354592d\n",
      "Total time on CPU: 0.052672 msecs\n",
      "Total time on GPU: 0.012256 msecs\n",
      "=============================\n",
      "Number of elements = 10000\n",
      "Num threads per block: 512\n",
      "Num blocks per grid:  20\n",
      "Sum (host): 2361419200d\n",
      "Sum (device): 2361419200d\n",
      "Total time on CPU: 0.060640 msecs\n",
      "Total time on GPU: 0.012192 msecs\n",
      "=============================\n",
      "Number of elements = 100000\n",
      "Num threads per block: 128\n",
      "Num blocks per grid: 782\n",
      "Sum (host): 2353040528d\n",
      "Sum (device): 2353040528d\n",
      "Total time on CPU: 0.562368 msecs\n",
      "Total time on GPU: 0.018720 msecs\n",
      "=============================\n",
      "Number of elements = 100000\n",
      "Num threads per block: 256\n",
      "Num blocks per grid: 391\n",
      "Sum (host): 2357064368d\n",
      "Sum (device): 2357064368d\n",
      "Total time on CPU: 0.558400 msecs\n",
      "Total time on GPU: 0.034272 msecs\n",
      "=============================\n",
      "Number of elements = 100000\n",
      "Num threads per block: 512\n",
      "Num blocks per grid: 196\n",
      "Sum (host): 2358264416d\n",
      "Sum (device): 2358264416d\n",
      "Total time on CPU: 0.606016 msecs\n",
      "Total time on GPU: 0.020192 msecs\n",
      "=============================\n",
      "Number of elements = 1000000\n",
      "Num threads per block: 128\n",
      "Num blocks per grid: 7813\n",
      "Sum (host): 1632161808d\n",
      "Sum (device): 1632161808d\n",
      "Total time on CPU: 5.539552 msecs\n",
      "Total time on GPU: 0.058464 msecs\n",
      "=============================\n",
      "Number of elements = 1000000\n",
      "Num threads per block: 256\n",
      "Num blocks per grid: 3907\n",
      "Sum (host): 1620156432d\n",
      "Sum (device): 1620156432d\n",
      "Total time on CPU: 5.548832 msecs\n",
      "Total time on GPU: 0.059104 msecs\n",
      "=============================\n",
      "Number of elements = 1000000\n",
      "Num threads per block: 512\n",
      "Num blocks per grid: 1954\n",
      "Sum (host): 1069740048d\n",
      "Sum (device): 1069740048d\n",
      "Total time on CPU: 5.849728 msecs\n",
      "Total time on GPU: 0.061312 msecs\n",
      "=============================\n",
      "\n"
     ]
    }
   ],
   "source": [
    "%%cuda\n",
    "#include <stdio.h>\n",
    "\n",
    "// The prime reference of code is https://github.com/muhammadali74/CUDA_Spring_2024/blob/main/Week3/Calculate_SumOnGPU_Timed.ipynb, courtesy of Dr Mobeen Movania's CuDA course content\n",
    "\n",
    "inline cudaError_t checkCudaErr(cudaError_t err, const char* msg) {\n",
    "  if (err != cudaSuccess) {\n",
    "    fprintf(stderr, \"CUDA Runtime error at %s: %s\\n\", msg, cudaGetErrorString(err));\n",
    "  }\n",
    "  return err;\n",
    "}\n",
    "\n",
    "__global__ void sum(int* a, int* b, int* c, const int N) {\n",
    "\tint i = threadIdx.x + blockDim.x * blockIdx.x;\n",
    "\tif (i<N)\n",
    "\t\tc[i] = a[i] + b[i];\n",
    "\t//else\n",
    "\t//\tprintf(\"i > N -> %3d in block: %d\\n\", i, blockIdx.x);\n",
    "}\n",
    "\n",
    "void sum_host(int* a, int* b, int* c, const int N) {\n",
    "\n",
    "\tfor(int i=0; i<N; ++i)\n",
    "\t\tc[i] = a[i] + b[i];\n",
    "}\n",
    "\n",
    "\n",
    "int main() {\n",
    "\tint* h_a = 0;\n",
    "\tint* h_b = 0;\n",
    "\tint* h_c = 0;\n",
    "\n",
    "\tint* d_a = 0;\n",
    "\tint* d_b = 0;\n",
    "\tint* d_c = 0;\n",
    "\n",
    "\n",
    "  int N_list[] = {1000, 10000, 100000, 1000000};\n",
    "  int numThreadsPerBlock_list[] = {128, 256, 512};\n",
    "\n",
    "  int N = 0;\n",
    "\n",
    "  for (int m = 0; m<4; m++) {\n",
    "      for (int k = 0; k < 3; k++) {\n",
    "\n",
    "\n",
    "\tN = N_list[m];\n",
    "\tint numThreadsPerBlock =  numThreadsPerBlock_list[k];\n",
    "\n",
    "\tint numBlocksPerGrid = ceilf(N/numThreadsPerBlock + 1);\n",
    "  printf(\"Number of elements = %d\\n\", N );\n",
    "\tprintf(\"Num threads per block: %3d\\n\", numThreadsPerBlock);\n",
    "\tprintf(\"Num blocks per grid: %3d\\n\", numBlocksPerGrid);\n",
    "\n",
    "\tsize_t size = N * sizeof(int);\n",
    "\n",
    "\t//allocate host memory\n",
    "\th_a = (int*)malloc(size);\n",
    "\th_b = (int*)malloc(size);\n",
    "\th_c = (int*)malloc(size);\n",
    "\n",
    "\t//initialize a, b and c\n",
    "\tfor(int i=0;i<N;++i) {\n",
    "\t\th_a[i] = i+1;\n",
    "\t\th_b[i] = h_a[i]*2;\n",
    "\t\th_c[i] = 0;\n",
    "\t}\n",
    "\n",
    "  cudaEvent_t start, stop;\n",
    "\tcheckCudaErr(cudaEventCreate(&start), \"Start Event Creation\");\n",
    "\tcheckCudaErr(cudaEventCreate(&stop), \"Stop Event Creation\");\n",
    "  float cputime = 0;\n",
    "  float gputime = 0;\n",
    "\n",
    "\n",
    "\t//allocate device memory\n",
    "\tcheckCudaErr(cudaMalloc((void**)&d_a, size), \"gpu memory allocation\");\n",
    "\tcheckCudaErr(cudaMalloc((void**)&d_b, size), \"gpu memory allocation\");\n",
    "\tcheckCudaErr(cudaMalloc((void**)&d_c, size), \"gpu memory allocation\");\n",
    "\n",
    "\t//copy host data to device memory\n",
    "\tcheckCudaErr(cudaMemcpy(d_a, h_a, size, cudaMemcpyHostToDevice),\"data copy\");\n",
    "\tcheckCudaErr(cudaMemcpy(d_b, h_b, size, cudaMemcpyHostToDevice), \"data copy\");\n",
    "\n",
    "\t//calculate on host\n",
    "  checkCudaErr(cudaEventRecord(start), \"event record\");\n",
    "\tsum_host(h_a, h_b, h_c, N);\n",
    "  checkCudaErr(cudaEventRecord(stop), \"event record\");\n",
    "  checkCudaErr(cudaEventSynchronize(stop), \"event synchronize\");\n",
    "  cudaEventElapsedTime(&cputime, start, stop);\n",
    "\n",
    " printf(\"Sum (host): %ud\\n\", h_c);\n",
    "\n",
    "\t//output result\n",
    "\t/*\n",
    "\tprintf(\"Host calculation result: \\n\");\n",
    "\tfor(int i=0;i<N;++i) {\n",
    "\t\tprintf(\"%3d + %3d = %3d\\n\", h_a[i], h_b[i], h_c[i]);\n",
    "\t\t//clear host result to ensure that the result of device is actually from the kernel\n",
    "\t\th_c[i] = 0;\n",
    "\t}\n",
    "\t*/\n",
    "\n",
    "\n",
    "\tcheckCudaErr(cudaEventRecord(start), \"event record\");\n",
    "\t//calculate on device\n",
    "\tsum<<<numBlocksPerGrid, numThreadsPerBlock>>>(d_a, d_b, d_c, N);\n",
    "  checkCudaErr(cudaGetLastError(), \"GPU Error\");\n",
    "\tcheckCudaErr(cudaDeviceSynchronize(), \"synchronize\");\n",
    "\tcheckCudaErr(cudaEventRecord(stop), \"event record\");\n",
    "  checkCudaErr(cudaEventSynchronize(stop), \"event synchronize\");\n",
    "\n",
    "  cudaEventElapsedTime(&gputime, start, stop);\n",
    "\n",
    "\n",
    "\n",
    "\t//copy result from device to host\n",
    "\tcheckCudaErr(cudaMemcpy(h_c, d_c, size, cudaMemcpyDeviceToHost), \"data copy\");\n",
    "\n",
    "\n",
    "\n",
    "  printf(\"Sum (device): %ud\\n\", h_c);\n",
    "\n",
    "\t//output result\n",
    "\t/*\n",
    "\tprintf(\"--------------------------------------\\n\");\n",
    "\tprintf(\"Device calculation result: \\n\");\n",
    "\tfor(int i=0;i<N;++i) {\n",
    "\t\tprintf(\"%3d + %3d = %3d\\n\", h_a[i], h_b[i], h_c[i]);\n",
    "\t}\n",
    "\tprintf(\"--------------------------------------\\n\");\n",
    "\t*/\n",
    "\n",
    "\n",
    "\tprintf(\"Total time on CPU: %f msecs\\n\", cputime);\n",
    "\tprintf(\"Total time on GPU: %f msecs\\n\", gputime);\n",
    "\n",
    " printf(\"=============================\\n\");\n",
    "\n",
    "       }\n",
    "  }\n",
    "\n",
    "\t//delete data allocated on device\n",
    "\tcheckCudaErr(cudaFree(d_a), \"device mem deallocation\");\n",
    "\tcheckCudaErr(cudaFree(d_b), \"device mem deallocation\");\n",
    "\tcheckCudaErr(cudaFree(d_c), \"device mem deallocation\");\n",
    "\n",
    "\t//delete host memory\n",
    "\tfree(h_a);\n",
    "\tfree(h_b);\n",
    "\tfree(h_c);\n",
    "\n",
    "\tcudaDeviceReset();\n",
    "\treturn 0;\n",
    "}"
   ]
  },
  {
   "cell_type": "code",
   "execution_count": 5,
   "id": "32526552",
   "metadata": {
    "execution": {
     "iopub.execute_input": "2024-01-28T16:43:10.085722Z",
     "iopub.status.busy": "2024-01-28T16:43:10.084891Z",
     "iopub.status.idle": "2024-01-28T16:43:10.845767Z",
     "shell.execute_reply": "2024-01-28T16:43:10.844894Z"
    },
    "executionInfo": {
     "elapsed": 959,
     "status": "ok",
     "timestamp": 1706445716807,
     "user": {
      "displayName": "Mohammad Ali",
      "userId": "01023744747669863764"
     },
     "user_tz": -300
    },
    "id": "-5lSwOGxFScJ",
    "outputId": "11f7c43a-2681-4cc2-80e0-9201e0a1de3b",
    "papermill": {
     "duration": 0.770369,
     "end_time": "2024-01-28T16:43:10.848144",
     "exception": false,
     "start_time": "2024-01-28T16:43:10.077775",
     "status": "completed"
    },
    "tags": []
   },
   "outputs": [
    {
     "data": {
      "image/png": "[encoded data removed]",
      "text/plain": [
       "<Figure size 640x480 with 1 Axes>"
      ]
     },
     "metadata": {},
     "output_type": "display_data"
    }
   ],
   "source": [
    "import matplotlib.pyplot as plt\n",
    "\n",
    "N = [1000, 10000, 100000, 1000000] # dataset sizes\n",
    "cpu_times = [0.004, 0.03, 0.28, 3.3]  # CPU times in seconds\n",
    "gpu_times_128_threads = [0.176384, 0.011168, 0.019936, 0.058336]  # GPU times for 128 threads in seconds\n",
    "gpu_times_256_threads = [0.014304, 0.011104, 0.020064, 0.058688]  # GPU times for 256 threads in seconds\n",
    "gpu_times_512_threads = [0.011840, 0.012256 , 0.019968 , 0.061152] # GPU times for 512 threads in seconds\n",
    "# Plotting CPU times\n",
    "plt.semilogy(N, cpu_times, label='CPU', marker='o')\n",
    "\n",
    "# Plotting GPU times\n",
    "plt.semilogy(N, gpu_times_256_threads, label='GPU (256 threads/blk)', marker='x')\n",
    "\n",
    "plt.semilogy(N, gpu_times_512_threads, label='GPU (512 threads/blk)', marker='x')\n",
    "\n",
    "plt.semilogy(N, gpu_times_128_threads, label='GPU (128 threads/blk)', marker='x')\n",
    "\n",
    "\n",
    "plt.xlabel('Data Size (N)')\n",
    "plt.ylabel('Time (s)')\n",
    "plt.title('CPU vs GPU Time Comparison')\n",
    "plt.legend()\n",
    "plt.grid(True)\n",
    "plt.show()\n"
   ]
  },
  {
   "cell_type": "markdown",
   "id": "21d822ae",
   "metadata": {
    "id": "lqiaTEg5264Z",
    "papermill": {
     "duration": 0.006177,
     "end_time": "2024-01-28T16:43:10.860873",
     "exception": false,
     "start_time": "2024-01-28T16:43:10.854696",
     "status": "completed"
    },
    "tags": []
   },
   "source": [
    "We observe that for different configurations the GPU time taken are similar. Compared to the CPU time, we see that for small datasets the CPU takes lesser time than GPU. However, as datasets grow larger, we see that the GPU speed up grows exponentially as depicted in the graph."
   ]
  }
 ],
 "metadata": {
  "accelerator": "GPU",
  "colab": {
   "authorship_tag": "ABX9TyP46MAYaFu5FP9Mp35hBlfO",
   "gpuType": "T4",
   "provenance": []
  },
  "kaggle": {
   "accelerator": "nvidiaTeslaT4",
   "dataSources": [],
   "dockerImageVersionId": 30636,
   "isGpuEnabled": true,
   "isInternetEnabled": true,
   "language": "python",
   "sourceType": "notebook"
  },
  "kernelspec": {
   "display_name": "Python 3",
   "language": "python",
   "name": "python3"
  },
  "language_info": {
   "codemirror_mode": {
    "name": "ipython",
    "version": 3
   },
   "file_extension": ".py",
   "mimetype": "text/x-python",
   "name": "python",
   "nbconvert_exporter": "python",
   "pygments_lexer": "ipython3",
   "version": "3.10.12"
  },
  "papermill": {
   "default_parameters": {},
   "duration": 42.417203,
   "end_time": "2024-01-28T16:43:11.185196",
   "environment_variables": {},
   "exception": null,
   "input_path": "__notebook__.ipynb",
   "output_path": "__notebook__.ipynb",
   "parameters": {},
   "start_time": "2024-01-28T16:42:28.767993",
   "version": "2.4.0"
  }
 },
 "nbformat": 4,
 "nbformat_minor": 5
}
