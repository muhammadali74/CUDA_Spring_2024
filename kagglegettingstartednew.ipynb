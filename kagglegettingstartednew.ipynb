{
 "cells": [
  {
   "cell_type": "code",
   "execution_count": 1,
   "id": "e0f01988",
   "metadata": {
    "execution": {
     "iopub.execute_input": "2024-01-11T07:51:47.035268Z",
     "iopub.status.busy": "2024-01-11T07:51:47.034896Z",
     "iopub.status.idle": "2024-01-11T07:51:48.065795Z",
     "shell.execute_reply": "2024-01-11T07:51:48.064841Z"
    },
    "papermill": {
     "duration": 1.037523,
     "end_time": "2024-01-11T07:51:48.068083",
     "exception": false,
     "start_time": "2024-01-11T07:51:47.030560",
     "status": "completed"
    },
    "tags": []
   },
   "outputs": [
    {
     "name": "stdout",
     "output_type": "stream",
     "text": [
      "Thu Jan 11 07:51:47 2024       \r\n",
      "+---------------------------------------------------------------------------------------+\r\n",
      "| NVIDIA-SMI 535.129.03             Driver Version: 535.129.03   CUDA Version: 12.2     |\r\n",
      "|-----------------------------------------+----------------------+----------------------+\r\n",
      "| GPU  Name                 Persistence-M | Bus-Id        Disp.A | Volatile Uncorr. ECC |\r\n",
      "| Fan  Temp   Perf          Pwr:Usage/Cap |         Memory-Usage | GPU-Util  Compute M. |\r\n",
      "|                                         |                      |               MIG M. |\r\n",
      "|=========================================+======================+======================|\r\n",
      "|   0  Tesla T4                       Off | 00000000:00:04.0 Off |                    0 |\r\n",
      "| N/A   39C    P8               9W /  70W |      0MiB / 15360MiB |      0%      Default |\r\n",
      "|                                         |                      |                  N/A |\r\n",
      "+-----------------------------------------+----------------------+----------------------+\r\n",
      "|   1  Tesla T4                       Off | 00000000:00:05.0 Off |                    0 |\r\n",
      "| N/A   46C    P8              10W /  70W |      0MiB / 15360MiB |      0%      Default |\r\n",
      "|                                         |                      |                  N/A |\r\n",
      "+-----------------------------------------+----------------------+----------------------+\r\n",
      "                                                                                         \r\n",
      "+---------------------------------------------------------------------------------------+\r\n",
      "| Processes:                                                                            |\r\n",
      "|  GPU   GI   CI        PID   Type   Process name                            GPU Memory |\r\n",
      "|        ID   ID                                                             Usage      |\r\n",
      "|=======================================================================================|\r\n",
      "|  No running processes found                                                           |\r\n",
      "+---------------------------------------------------------------------------------------+\r\n"
     ]
    }
   ],
   "source": [
    "!nvidia-smi"
   ]
  },
  {
   "cell_type": "code",
   "execution_count": 2,
   "id": "306b9456",
   "metadata": {
    "execution": {
     "iopub.execute_input": "2024-01-11T07:51:48.075128Z",
     "iopub.status.busy": "2024-01-11T07:51:48.074557Z",
     "iopub.status.idle": "2024-01-11T07:51:49.031323Z",
     "shell.execute_reply": "2024-01-11T07:51:49.030147Z"
    },
    "papermill": {
     "duration": 0.962684,
     "end_time": "2024-01-11T07:51:49.033822",
     "exception": false,
     "start_time": "2024-01-11T07:51:48.071138",
     "status": "completed"
    },
    "tags": []
   },
   "outputs": [
    {
     "name": "stdout",
     "output_type": "stream",
     "text": [
      "nvcc: NVIDIA (R) Cuda compiler driver\r\n",
      "Copyright (c) 2005-2022 NVIDIA Corporation\r\n",
      "Built on Wed_Sep_21_10:33:58_PDT_2022\r\n",
      "Cuda compilation tools, release 11.8, V11.8.89\r\n",
      "Build cuda_11.8.r11.8/compiler.31833905_0\r\n"
     ]
    }
   ],
   "source": [
    "!nvcc --version"
   ]
  },
  {
   "cell_type": "code",
   "execution_count": 3,
   "id": "15196d2a",
   "metadata": {
    "execution": {
     "iopub.execute_input": "2024-01-11T07:51:49.040303Z",
     "iopub.status.busy": "2024-01-11T07:51:49.039988Z",
     "iopub.status.idle": "2024-01-11T07:52:05.247873Z",
     "shell.execute_reply": "2024-01-11T07:52:05.246880Z"
    },
    "papermill": {
     "duration": 16.213768,
     "end_time": "2024-01-11T07:52:05.250228",
     "exception": false,
     "start_time": "2024-01-11T07:51:49.036460",
     "status": "completed"
    },
    "tags": []
   },
   "outputs": [
    {
     "name": "stdout",
     "output_type": "stream",
     "text": [
      "Collecting git+https://github.com/andreinechaev/nvcc4jupyter.git\r\n",
      "  Cloning https://github.com/andreinechaev/nvcc4jupyter.git to /tmp/pip-req-build-sskqbi6p\r\n",
      "  Running command git clone --filter=blob:none --quiet https://github.com/andreinechaev/nvcc4jupyter.git /tmp/pip-req-build-sskqbi6p\r\n",
      "  Resolved https://github.com/andreinechaev/nvcc4jupyter.git to commit 0d2ab99cccbbc682722e708515fe9c4cfc50185a\r\n",
      "  Preparing metadata (setup.py) ... \u001b[?25ldone\r\n",
      "\u001b[?25hBuilding wheels for collected packages: NVCCPlugin\r\n",
      "  Building wheel for NVCCPlugin (setup.py) ... \u001b[?25l-\b \bdone\r\n",
      "\u001b[?25h  Created wheel for NVCCPlugin: filename=NVCCPlugin-0.0.2-py3-none-any.whl size=4717 sha256=1bbf64ef2aec4cd14f76a5f0084390830fc51de8f903b12888f39304b3faf986\r\n",
      "  Stored in directory: /tmp/pip-ephem-wheel-cache-sfr90qao/wheels/a8/b9/18/23f8ef71ceb0f63297dd1903aedd067e6243a68ea756d6feea\r\n",
      "Successfully built NVCCPlugin\r\n",
      "Installing collected packages: NVCCPlugin\r\n",
      "Successfully installed NVCCPlugin-0.0.2\r\n"
     ]
    }
   ],
   "source": [
    "!pip install git+https://github.com/andreinechaev/nvcc4jupyter.git"
   ]
  },
  {
   "cell_type": "code",
   "execution_count": 4,
   "id": "4d66cd9b",
   "metadata": {
    "execution": {
     "iopub.execute_input": "2024-01-11T07:52:05.258101Z",
     "iopub.status.busy": "2024-01-11T07:52:05.257803Z",
     "iopub.status.idle": "2024-01-11T07:52:05.271074Z",
     "shell.execute_reply": "2024-01-11T07:52:05.270164Z"
    },
    "papermill": {
     "duration": 0.019429,
     "end_time": "2024-01-11T07:52:05.272935",
     "exception": false,
     "start_time": "2024-01-11T07:52:05.253506",
     "status": "completed"
    },
    "tags": []
   },
   "outputs": [
    {
     "name": "stdout",
     "output_type": "stream",
     "text": [
      "created output directory at /kaggle/working/src\n",
      "Out bin /kaggle/working/result.out\n"
     ]
    }
   ],
   "source": [
    "%load_ext nvcc_plugin"
   ]
  },
  {
   "cell_type": "code",
   "execution_count": 5,
   "id": "4cbb7a3a",
   "metadata": {
    "execution": {
     "iopub.execute_input": "2024-01-11T07:52:05.280410Z",
     "iopub.status.busy": "2024-01-11T07:52:05.280120Z",
     "iopub.status.idle": "2024-01-11T07:52:08.111275Z",
     "shell.execute_reply": "2024-01-11T07:52:08.109899Z"
    },
    "papermill": {
     "duration": 2.837393,
     "end_time": "2024-01-11T07:52:08.113437",
     "exception": false,
     "start_time": "2024-01-11T07:52:05.276044",
     "status": "completed"
    },
    "tags": []
   },
   "outputs": [
    {
     "name": "stdout",
     "output_type": "stream",
     "text": [
      "This is just to check the working of CUDA in Kaggle.\n",
      "\n"
     ]
    }
   ],
   "source": [
    "%%cu\n",
    "#include <iostream>\n",
    "int main() {\n",
    "    std::cout << \"This is just to check the working of CUDA in Kaggle.\\n\";\n",
    "    return 0;\n",
    "}"
   ]
  }
 ],
 "metadata": {
  "kaggle": {
   "accelerator": "nvidiaTeslaT4",
   "dataSources": [],
   "dockerImageVersionId": 30636,
   "isGpuEnabled": true,
   "isInternetEnabled": true,
   "language": "python",
   "sourceType": "notebook"
  },
  "kernelspec": {
   "display_name": "Python 3",
   "language": "python",
   "name": "python3"
  },
  "language_info": {
   "codemirror_mode": {
    "name": "ipython",
    "version": 3
   },
   "file_extension": ".py",
   "mimetype": "text/x-python",
   "name": "python",
   "nbconvert_exporter": "python",
   "pygments_lexer": "ipython3",
   "version": "3.10.12"
  },
  "papermill": {
   "default_parameters": {},
   "duration": 25.032073,
   "end_time": "2024-01-11T07:52:08.435438",
   "environment_variables": {},
   "exception": null,
   "input_path": "__notebook__.ipynb",
   "output_path": "__notebook__.ipynb",
   "parameters": {},
   "start_time": "2024-01-11T07:51:43.403365",
   "version": "2.4.0"
  }
 },
 "nbformat": 4,
 "nbformat_minor": 5
}
