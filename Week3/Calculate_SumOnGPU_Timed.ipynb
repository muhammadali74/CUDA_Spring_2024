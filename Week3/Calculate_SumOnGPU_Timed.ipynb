{
  "nbformat": 4,
  "nbformat_minor": 0,
  "metadata": {
    "colab": {
      "provenance": [],
      "include_colab_link": true
    },
    "kernelspec": {
      "name": "python3",
      "display_name": "Python 3"
    },
    "language_info": {
      "name": "python"
    },
    "accelerator": "GPU"
  },
  "cells": [
    {
      "cell_type": "markdown",
      "metadata": {
        "id": "view-in-github",
        "colab_type": "text"
      },
      "source": [
        "<a href=\"https://colab.research.google.com/github/mmmovania/CUDA_Spring_2024/blob/main/Week3/Calculate_SumOnGPU_Timed.ipynb\" target=\"_parent\"><img src=\"https://colab.research.google.com/assets/colab-badge.svg\" alt=\"Open In Colab\"/></a>"
      ]
    },
    {
      "cell_type": "code",
      "execution_count": 1,
      "metadata": {
        "colab": {
          "base_uri": "https://localhost:8080/"
        },
        "id": "OB2MY3st-VUm",
        "outputId": "730542ca-e4c3-4311-dccb-b1fe66b39f9e"
      },
      "outputs": [
        {
          "output_type": "stream",
          "name": "stdout",
          "text": [
            "Collecting git+https://github.com/andreinechaev/nvcc4jupyter.git\n",
            "  Cloning https://github.com/andreinechaev/nvcc4jupyter.git to /tmp/pip-req-build-kg4qju75\n",
            "  Running command git clone --filter=blob:none --quiet https://github.com/andreinechaev/nvcc4jupyter.git /tmp/pip-req-build-kg4qju75\n",
            "  Resolved https://github.com/andreinechaev/nvcc4jupyter.git to commit 5cd225851b7638f3f6d55a19328295f16c014079\n",
            "  Installing build dependencies ... \u001b[?25l\u001b[?25hdone\n",
            "  Getting requirements to build wheel ... \u001b[?25l\u001b[?25hdone\n",
            "  Preparing metadata (pyproject.toml) ... \u001b[?25l\u001b[?25hdone\n",
            "Building wheels for collected packages: nvcc4jupyter\n",
            "  Building wheel for nvcc4jupyter (pyproject.toml) ... \u001b[?25l\u001b[?25hdone\n",
            "  Created wheel for nvcc4jupyter: filename=nvcc4jupyter-1.0.3-py3-none-any.whl size=7432 sha256=ad99cf1e6175f37f13398802e9e82d42885745e385f9d1c2ce678f3d359f3a95\n",
            "  Stored in directory: /tmp/pip-ephem-wheel-cache-_dhgkki3/wheels/a8/b9/18/23f8ef71ceb0f63297dd1903aedd067e6243a68ea756d6feea\n",
            "Successfully built nvcc4jupyter\n",
            "Installing collected packages: nvcc4jupyter\n",
            "Successfully installed nvcc4jupyter-1.0.3\n",
            "Source files will be saved in \"/tmp/tmpab0rd76t\".\n"
          ]
        }
      ],
      "source": [
        "!pip install git+https://github.com/andreinechaev/nvcc4jupyter.git\n",
        "%load_ext nvcc4jupyter"
      ]
    },
    {
      "cell_type": "code",
      "source": [
        "%%cuda\n",
        "#include <stdio.h>\n",
        "#include <time.h>\n",
        "\n",
        "__global__ void sum(int* a, int* b, int* c, const int N) {\n",
        "\tint i = threadIdx.x + blockDim.x * blockIdx.x;\n",
        "\tif (i<N)\n",
        "\t\tc[i] = a[i] + b[i];\n",
        "\t//else\n",
        "\t//\tprintf(\"i > N -> %3d in block: %d\\n\", i, blockIdx.x);\n",
        "}\n",
        "\n",
        "void sum_host(int* a, int* b, int* c, const int N) {\n",
        "  clock_t clk;\n",
        "\n",
        "\tclk = clock();\n",
        "\tfor(int i=0; i<N; ++i)\n",
        "\t\tc[i] = a[i] + b[i];\n",
        "\n",
        "\tclk = clock() - clk;\n",
        "\tdouble dt = (((double)clk) / CLOCKS_PER_SEC) * 1000;\n",
        "\tprintf(\"Total time on CPU: %f msecs\\n\", dt);\n",
        "\n",
        "}\n",
        "\n",
        "\n",
        "int main() {\n",
        "\tint* h_a = 0;\n",
        "\tint* h_b = 0;\n",
        "\tint* h_c = 0;\n",
        "\n",
        "\tint* d_a = 0;\n",
        "\tint* d_b = 0;\n",
        "\tint* d_c = 0;\n",
        "\n",
        "\tconst int N = 50000; //2048;\n",
        "\tint numThreadsPerBlock =  128;\n",
        "\tint numBlocksPerGrid = ceilf(N/numThreadsPerBlock + 1);\n",
        "\tprintf(\"Num threads per block: %3d\\n\", numThreadsPerBlock);\n",
        "\tprintf(\"Num blocks per grid: %3d\\n\", numBlocksPerGrid);\n",
        "\n",
        "\tsize_t size = N * sizeof(int);\n",
        "\n",
        "\t//allocate host memory\n",
        "\th_a = (int*)malloc(size);\n",
        "\th_b = (int*)malloc(size);\n",
        "\th_c = (int*)malloc(size);\n",
        "\n",
        "\t//initialize a, b and c\n",
        "\tfor(int i=0;i<N;++i) {\n",
        "\t\th_a[i] = i+1;\n",
        "\t\th_b[i] = h_a[i]*2;\n",
        "\t\th_c[i] = 0;\n",
        "\t}\n",
        "\n",
        "  cudaEvent_t start, stop;\n",
        "\tcudaEventCreate(&start);\n",
        "\tcudaEventCreate(&stop);\n",
        "\n",
        "\t//allocate device memory\n",
        "\tcudaMalloc((void**)&d_a, size);\n",
        "\tcudaMalloc((void**)&d_b, size);\n",
        "\tcudaMalloc((void**)&d_c, size);\n",
        "\n",
        "\t//copy host data to device memory\n",
        "\tcudaMemcpy(d_a, h_a, size, cudaMemcpyHostToDevice);\n",
        "\tcudaMemcpy(d_b, h_b, size, cudaMemcpyHostToDevice);\n",
        "\n",
        "\t//calculate on host\n",
        "\tsum_host(h_a, h_b, h_c, N);\n",
        "\tprintf(\"Sum (host): %d\\n\", h_c);\n",
        "\n",
        "\t//output result\n",
        "\t/*\n",
        "\tprintf(\"Host calculation result: \\n\");\n",
        "\tfor(int i=0;i<N;++i) {\n",
        "\t\tprintf(\"%3d + %3d = %3d\\n\", h_a[i], h_b[i], h_c[i]);\n",
        "\t\t//clear host result to ensure that the result of device is actually from the kernel\n",
        "\t\th_c[i] = 0;\n",
        "\t}\n",
        "\t*/\n",
        "\n",
        "\tcudaEventRecord(start);\n",
        "\t//calculate on device\n",
        "\tsum<<<numBlocksPerGrid, numThreadsPerBlock>>>(d_a, d_b, d_c, N);\n",
        "\tcudaDeviceSynchronize();\n",
        "\tcudaEventRecord(stop);\n",
        "\n",
        "\n",
        "\n",
        "\t//copy result from device to host\n",
        "\tcudaMemcpy(h_c, d_c, size, cudaMemcpyDeviceToHost);\n",
        "\n",
        "  cudaEventSynchronize(stop);\n",
        "\n",
        "  printf(\"Sum (device): %d\\n\", h_c);\n",
        "\n",
        "\t//output result\n",
        "\t/*\n",
        "\tprintf(\"--------------------------------------\\n\");\n",
        "\tprintf(\"Device calculation result: \\n\");\n",
        "\tfor(int i=0;i<N;++i) {\n",
        "\t\tprintf(\"%3d + %3d = %3d\\n\", h_a[i], h_b[i], h_c[i]);\n",
        "\t}\n",
        "\tprintf(\"--------------------------------------\\n\");\n",
        "\t*/\n",
        "\n",
        " \tfloat dt = 0;\n",
        "\tcudaEventElapsedTime(&dt, start, stop);\n",
        "\tprintf(\"Total time on GPU: %f msecs\\n\", dt);\n",
        "\n",
        "\t//delete data allocated on device\n",
        "\tcudaFree(d_a);\n",
        "\tcudaFree(d_b);\n",
        "\tcudaFree(d_c);\n",
        "\n",
        "\t//delete host memory\n",
        "\tfree(h_a);\n",
        "\tfree(h_b);\n",
        "\tfree(h_c);\n",
        "\n",
        "\tcudaDeviceReset();\n",
        "\treturn 0;\n",
        "}"
      ],
      "metadata": {
        "colab": {
          "base_uri": "https://localhost:8080/"
        },
        "id": "GYZ627HO-XKd",
        "outputId": "1f67c9f9-71e6-4e0b-af19-bf700d1aa7e4"
      },
      "execution_count": 2,
      "outputs": [
        {
          "output_type": "stream",
          "name": "stdout",
          "text": [
            "Num threads per block: 128\n",
            "Num blocks per grid: 391\n",
            "Total time on CPU: 0.182000 msecs\n",
            "Sum (host): 726659088\n",
            "Sum (device): 726659088\n",
            "Total time on GPU: 159.026688 msecs\n",
            "\n"
          ]
        }
      ]
    }
  ]
}