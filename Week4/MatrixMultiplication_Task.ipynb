{
  "nbformat": 4,
  "nbformat_minor": 0,
  "metadata": {
    "colab": {
      "name": "MatrixMultiplication.ipynb",
      "provenance": [],
      "include_colab_link": true
    },
    "kernelspec": {
      "name": "python3",
      "display_name": "Python 3"
    },
    "language_info": {
      "name": "python"
    },
    "accelerator": "GPU"
  },
  "cells": [
    {
      "cell_type": "markdown",
      "metadata": {
        "id": "view-in-github",
        "colab_type": "text"
      },
      "source": [
        "<a href=\"https://colab.research.google.com/github/mmmovania/CUDA_Spring_2024/blob/main/Week4/MatrixMultiplication_Task.ipynb\" target=\"_parent\"><img src=\"https://colab.research.google.com/assets/colab-badge.svg\" alt=\"Open In Colab\"/></a>"
      ]
    },
    {
      "cell_type": "code",
      "execution_count": 1,
      "metadata": {
        "colab": {
          "base_uri": "https://localhost:8080/"
        },
        "id": "-YhC1zB4-2ST",
        "outputId": "9fef66ef-1207-4a7e-a997-fe6b94820420"
      },
      "outputs": [
        {
          "output_type": "stream",
          "name": "stdout",
          "text": [
            "Collecting git+https://github.com/andreinechaev/nvcc4jupyter.git\n",
            "  Cloning https://github.com/andreinechaev/nvcc4jupyter.git to /tmp/pip-req-build-t6nztniu\n",
            "  Running command git clone --filter=blob:none --quiet https://github.com/andreinechaev/nvcc4jupyter.git /tmp/pip-req-build-t6nztniu\n",
            "  Resolved https://github.com/andreinechaev/nvcc4jupyter.git to commit 5cd225851b7638f3f6d55a19328295f16c014079\n",
            "  Installing build dependencies ... \u001b[?25l\u001b[?25hdone\n",
            "  Getting requirements to build wheel ... \u001b[?25l\u001b[?25hdone\n",
            "  Preparing metadata (pyproject.toml) ... \u001b[?25l\u001b[?25hdone\n",
            "Building wheels for collected packages: nvcc4jupyter\n",
            "  Building wheel for nvcc4jupyter (pyproject.toml) ... \u001b[?25l\u001b[?25hdone\n",
            "  Created wheel for nvcc4jupyter: filename=nvcc4jupyter-1.0.3-py3-none-any.whl size=7432 sha256=ad99cf1e6175f37f13398802e9e82d42885745e385f9d1c2ce678f3d359f3a95\n",
            "  Stored in directory: /tmp/pip-ephem-wheel-cache-uj3zyrky/wheels/a8/b9/18/23f8ef71ceb0f63297dd1903aedd067e6243a68ea756d6feea\n",
            "Successfully built nvcc4jupyter\n",
            "Installing collected packages: nvcc4jupyter\n",
            "Successfully installed nvcc4jupyter-1.0.3\n",
            "Source files will be saved in \"/tmp/tmpmryna3kg\".\n"
          ]
        }
      ],
      "source": [
        "!pip install git+https://github.com/andreinechaev/nvcc4jupyter.git\n",
        "%load_ext nvcc4jupyter"
      ]
    },
    {
      "cell_type": "code",
      "source": [
        "%%cuda\n",
        "#include <stdio.h>\n",
        "#include <cuda.h>\n",
        "\n",
        "__global__ void MatrixMulti(float* A, float* B, float* C, const int N) {\n",
        "\t//Calculate the row #\n",
        "\tint Row = blockIdx.y*blockDim.y + threadIdx.y;\n",
        "\n",
        "\t//Calculate the column #\n",
        "\tint Col = blockIdx.x*blockDim.x + threadIdx.x;\n",
        "\n",
        "\tif ((Row < m) && (Col < n)) {\n",
        "\n",
        "\t}\n",
        "}\n",
        "\n",
        "\n",
        "int main(int argc, char** argv)\n",
        "{\n",
        "\n",
        "\treturn 0;\n",
        "}"
      ],
      "metadata": {
        "colab": {
          "base_uri": "https://localhost:8080/"
        },
        "id": "N6OBCDHlAcrD",
        "outputId": "32133ede-6fb1-46cc-8c64-0690fe4c2911"
      },
      "execution_count": 2,
      "outputs": [
        {
          "output_type": "stream",
          "name": "stdout",
          "text": [
            "/tmp/tmpmryna3kg/74ae29d5-b2c4-436f-9934-4eccddb87f92/single_file.cu(11): error: identifier \"m\" is undefined\n",
            "   if ((Row < m) && (Col < n)) {\n",
            "              ^\n",
            "\n",
            "/tmp/tmpmryna3kg/74ae29d5-b2c4-436f-9934-4eccddb87f92/single_file.cu(11): error: identifier \"n\" is undefined\n",
            "   if ((Row < m) && (Col < n)) {\n",
            "                           ^\n",
            "\n",
            "2 errors detected in the compilation of \"/tmp/tmpmryna3kg/74ae29d5-b2c4-436f-9934-4eccddb87f92/single_file.cu\".\n",
            "\n"
          ]
        }
      ]
    }
  ]
}